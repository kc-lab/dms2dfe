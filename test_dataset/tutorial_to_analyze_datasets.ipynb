{
 "cells": [
  {
   "cell_type": "code",
   "execution_count": 21,
   "metadata": {
    "collapsed": false
   },
   "outputs": [],
   "source": [
    "import pandas as pd\n",
    "from get_test_dataset import main as get_test_dataset"
   ]
  },
  {
   "cell_type": "markdown",
   "metadata": {},
   "source": [
    "# Downloading required data"
   ]
  },
  {
   "cell_type": "code",
   "execution_count": 8,
   "metadata": {
    "collapsed": false
   },
   "outputs": [
    {
     "name": "stdout",
     "output_type": "stream",
     "text": [
      "Get input data for TEM1 or APH2 dataset? [valid inputs: 1 | 2]:3\n"
     ]
    }
   ],
   "source": [
    "get_test_dataset()"
   ]
  },
  {
   "cell_type": "markdown",
   "metadata": {},
   "source": [
    "# Select test dataset"
   ]
  },
  {
   "cell_type": "code",
   "execution_count": 22,
   "metadata": {
    "collapsed": false
   },
   "outputs": [
    {
     "name": "stdout",
     "output_type": "stream",
     "text": [
      "path to project directory APH2_Melnikov_et_al_2014 or TEM1_Firnberg_et_al_2014 [ 1 | 2 ]: 1\n"
     ]
    }
   ],
   "source": [
    "opt=raw_input(\"path to project directory APH2_Melnikov_et_al_2014 or TEM1_Firnberg_et_al_2014 [ 1 | 2 ]: \")\n",
    "if opt==\"1\":\n",
    "    project_directory=\"APH2_Melnikov_et_al_2014\"\n",
    "elif opt==\"2\":\n",
    "    project_directory=\"TEM1_Firnberg_et_al_2014\"    "
   ]
  },
  {
   "cell_type": "markdown",
   "metadata": {},
   "source": [
    "# Input configurations used for the analysis\n",
    "    Information about the file formats is available at http://kc-lab.github.io/kc-lab.github.io/dms2dfe/v0.1.0/html/4io.html"
   ]
  },
  {
   "cell_type": "code",
   "execution_count": 23,
   "metadata": {
    "collapsed": false
   },
   "outputs": [
    {
     "data": {
      "text/html": [
       "<div>\n",
       "<table border=\"1\" class=\"dataframe\">\n",
       "  <thead>\n",
       "    <tr style=\"text-align: right;\">\n",
       "      <th></th>\n",
       "      <th>varname</th>\n",
       "      <th>description</th>\n",
       "      <th>input</th>\n",
       "      <th>default</th>\n",
       "    </tr>\n",
       "  </thead>\n",
       "  <tbody>\n",
       "    <tr>\n",
       "      <th>0</th>\n",
       "      <td>host</td>\n",
       "      <td>Host name for assigning codon table [coli | ye...</td>\n",
       "      <td>sapiens</td>\n",
       "      <td>coli</td>\n",
       "    </tr>\n",
       "    <tr>\n",
       "      <th>1</th>\n",
       "      <td>Ni_cutoff</td>\n",
       "      <td>Cut off for frequency per mutant</td>\n",
       "      <td>3</td>\n",
       "      <td>8</td>\n",
       "    </tr>\n",
       "    <tr>\n",
       "      <th>2</th>\n",
       "      <td>Q_cutoff</td>\n",
       "      <td>Cut off for Phred score quality</td>\n",
       "      <td>NaN</td>\n",
       "      <td>30</td>\n",
       "    </tr>\n",
       "    <tr>\n",
       "      <th>3</th>\n",
       "      <td>norm_type</td>\n",
       "      <td>Type of normalization across samples [wild: wr...</td>\n",
       "      <td>NaN</td>\n",
       "      <td>none</td>\n",
       "    </tr>\n",
       "    <tr>\n",
       "      <th>4</th>\n",
       "      <td>alignment_type</td>\n",
       "      <td>Alignment type [loc:local | glob:global]</td>\n",
       "      <td>NaN</td>\n",
       "      <td>loc</td>\n",
       "    </tr>\n",
       "    <tr>\n",
       "      <th>5</th>\n",
       "      <td>cores</td>\n",
       "      <td>Number of cores to be used</td>\n",
       "      <td>3</td>\n",
       "      <td>1</td>\n",
       "    </tr>\n",
       "    <tr>\n",
       "      <th>6</th>\n",
       "      <td>fsta_fh</td>\n",
       "      <td>Optional: Path to reference fasta file</td>\n",
       "      <td>APH2_Melnikov_et_al_2014/aph_wt_nt_cctmr.fasta</td>\n",
       "      <td>found in project directory</td>\n",
       "    </tr>\n",
       "    <tr>\n",
       "      <th>7</th>\n",
       "      <td>pdb_fh</td>\n",
       "      <td>Optional: Path to pdb file</td>\n",
       "      <td>APH2_Melnikov_et_al_2014/1ND4.pdb</td>\n",
       "      <td>found in project directory</td>\n",
       "    </tr>\n",
       "    <tr>\n",
       "      <th>8</th>\n",
       "      <td>active_sites</td>\n",
       "      <td>Optional: residue numbers of active sites (spa...</td>\n",
       "      <td>190 195 208</td>\n",
       "      <td>NaN</td>\n",
       "    </tr>\n",
       "    <tr>\n",
       "      <th>9</th>\n",
       "      <td>cctmr</td>\n",
       "      <td>Optional: if reference sequence is concatamer ...</td>\n",
       "      <td>1 265 268 532</td>\n",
       "      <td>NaN</td>\n",
       "    </tr>\n",
       "    <tr>\n",
       "      <th>10</th>\n",
       "      <td>dssp_fh</td>\n",
       "      <td>Optional: path to dssp module (dependencies)</td>\n",
       "      <td>dms2dfe_dependencies/dssp-2.0.4-linux-amd64</td>\n",
       "      <td>NaN</td>\n",
       "    </tr>\n",
       "    <tr>\n",
       "      <th>11</th>\n",
       "      <td>trimmomatic_fh</td>\n",
       "      <td>Optional: path to trimmomatic source (.jar) fi...</td>\n",
       "      <td>dms2dfe_dependencies/Trimmomatic-0.33/trimmoma...</td>\n",
       "      <td>NaN</td>\n",
       "    </tr>\n",
       "    <tr>\n",
       "      <th>12</th>\n",
       "      <td>bowtie2_fh</td>\n",
       "      <td>Optional: path to bowtie2 source file</td>\n",
       "      <td>dms2dfe_dependencies/bowtie2-2.2.1/bowtie2</td>\n",
       "      <td>NaN</td>\n",
       "    </tr>\n",
       "    <tr>\n",
       "      <th>13</th>\n",
       "      <td>samtools_fh</td>\n",
       "      <td>Optional: path to samtools source file</td>\n",
       "      <td>dms2dfe_dependencies/samtools-0.1.18/samtools</td>\n",
       "      <td>NaN</td>\n",
       "    </tr>\n",
       "    <tr>\n",
       "      <th>14</th>\n",
       "      <td>clustalo_fh</td>\n",
       "      <td>Optional: path to clustal omega source file</td>\n",
       "      <td>dms2dfe_dependencies/clustalo-1.2.2-Ubuntu-x86_64</td>\n",
       "      <td>NaN</td>\n",
       "    </tr>\n",
       "    <tr>\n",
       "      <th>15</th>\n",
       "      <td>msms_fh</td>\n",
       "      <td>Optional: path to MSMS source file (for calcul...</td>\n",
       "      <td>dms2dfe_dependencies/msms/msms.x86_64Linux2.2.6.1</td>\n",
       "      <td>NaN</td>\n",
       "    </tr>\n",
       "    <tr>\n",
       "      <th>16</th>\n",
       "      <td>rate4site_fh</td>\n",
       "      <td>Optional: path to rate4site source file (for c...</td>\n",
       "      <td>dms2dfe_dependencies/rate4site/rate4site-3.0.0...</td>\n",
       "      <td>NaN</td>\n",
       "    </tr>\n",
       "  </tbody>\n",
       "</table>\n",
       "</div>"
      ],
      "text/plain": [
       "           varname                                        description  \\\n",
       "0             host  Host name for assigning codon table [coli | ye...   \n",
       "1        Ni_cutoff                   Cut off for frequency per mutant   \n",
       "2         Q_cutoff                    Cut off for Phred score quality   \n",
       "3        norm_type  Type of normalization across samples [wild: wr...   \n",
       "4   alignment_type           Alignment type [loc:local | glob:global]   \n",
       "5            cores                         Number of cores to be used   \n",
       "6          fsta_fh             Optional: Path to reference fasta file   \n",
       "7           pdb_fh                         Optional: Path to pdb file   \n",
       "8     active_sites  Optional: residue numbers of active sites (spa...   \n",
       "9            cctmr  Optional: if reference sequence is concatamer ...   \n",
       "10         dssp_fh       Optional: path to dssp module (dependencies)   \n",
       "11  trimmomatic_fh  Optional: path to trimmomatic source (.jar) fi...   \n",
       "12      bowtie2_fh              Optional: path to bowtie2 source file   \n",
       "13     samtools_fh             Optional: path to samtools source file   \n",
       "14     clustalo_fh        Optional: path to clustal omega source file   \n",
       "15         msms_fh  Optional: path to MSMS source file (for calcul...   \n",
       "16    rate4site_fh  Optional: path to rate4site source file (for c...   \n",
       "\n",
       "                                                input  \\\n",
       "0                                             sapiens   \n",
       "1                                                   3   \n",
       "2                                                 NaN   \n",
       "3                                                 NaN   \n",
       "4                                                 NaN   \n",
       "5                                                   3   \n",
       "6      APH2_Melnikov_et_al_2014/aph_wt_nt_cctmr.fasta   \n",
       "7                   APH2_Melnikov_et_al_2014/1ND4.pdb   \n",
       "8                                         190 195 208   \n",
       "9                                       1 265 268 532   \n",
       "10        dms2dfe_dependencies/dssp-2.0.4-linux-amd64   \n",
       "11  dms2dfe_dependencies/Trimmomatic-0.33/trimmoma...   \n",
       "12         dms2dfe_dependencies/bowtie2-2.2.1/bowtie2   \n",
       "13      dms2dfe_dependencies/samtools-0.1.18/samtools   \n",
       "14  dms2dfe_dependencies/clustalo-1.2.2-Ubuntu-x86_64   \n",
       "15  dms2dfe_dependencies/msms/msms.x86_64Linux2.2.6.1   \n",
       "16  dms2dfe_dependencies/rate4site/rate4site-3.0.0...   \n",
       "\n",
       "                       default  \n",
       "0                         coli  \n",
       "1                            8  \n",
       "2                           30  \n",
       "3                         none  \n",
       "4                          loc  \n",
       "5                            1  \n",
       "6   found in project directory  \n",
       "7   found in project directory  \n",
       "8                          NaN  \n",
       "9                          NaN  \n",
       "10                         NaN  \n",
       "11                         NaN  \n",
       "12                         NaN  \n",
       "13                         NaN  \n",
       "14                         NaN  \n",
       "15                         NaN  \n",
       "16                         NaN  "
      ]
     },
     "execution_count": 23,
     "metadata": {},
     "output_type": "execute_result"
    }
   ],
   "source": [
    "pd.read_csv(\"%s/cfg/info\" % project_directory)"
   ]
  },
  {
   "cell_type": "markdown",
   "metadata": {},
   "source": [
    "# Importing required *dms2dfe* modules"
   ]
  },
  {
   "cell_type": "code",
   "execution_count": 25,
   "metadata": {
    "collapsed": true
   },
   "outputs": [],
   "source": [
    "from dms2dfe import ana2_mutmat2fit,ana3_fit2comparison,ana4_modeller,ana4_plotter,pipeline"
   ]
  },
  {
   "cell_type": "markdown",
   "metadata": {},
   "source": [
    "# Running modules of*dms2dfe*\n",
    "## 1. Estimation of empirical preferential enrichments"
   ]
  },
  {
   "cell_type": "code",
   "execution_count": null,
   "metadata": {
    "collapsed": true
   },
   "outputs": [],
   "source": [
    "ana2_mutmat2fit.main(project_directory)"
   ]
  },
  {
   "cell_type": "markdown",
   "metadata": {},
   "source": [
    "## 2. Inferring rest of the preferential enrichments"
   ]
  },
  {
   "cell_type": "code",
   "execution_count": null,
   "metadata": {
    "collapsed": true
   },
   "outputs": [],
   "source": [
    "ana4_modeller.main(project_directory)"
   ]
  },
  {
   "cell_type": "markdown",
   "metadata": {},
   "source": [
    "## 3. Comparison of DFEs"
   ]
  },
  {
   "cell_type": "code",
   "execution_count": null,
   "metadata": {
    "collapsed": true
   },
   "outputs": [],
   "source": [
    "ana3_fit2comparison.main(project_directory)"
   ]
  },
  {
   "cell_type": "markdown",
   "metadata": {},
   "source": [
    "## 4. Generate visualizations"
   ]
  },
  {
   "cell_type": "code",
   "execution_count": null,
   "metadata": {
    "collapsed": true
   },
   "outputs": [],
   "source": [
    "ana4_plotter.main(project_directory)"
   ]
  },
  {
   "cell_type": "markdown",
   "metadata": {},
   "source": [
    "# Alternatively all the modules can be run in tandem (as a pipeline)\n",
    "\n",
    "## through python environment\n",
    "\n",
    "    from dms2dfe import pipeline\n",
    "    pipeline.main(\"path/to/project_directory\")\n",
    "    \n",
    "## from bash \n",
    "\n",
    "    python path/to/dms2dfe/pipeline.py TEM1_Firnberg_et_al_2014"
   ]
  },
  {
   "cell_type": "code",
   "execution_count": null,
   "metadata": {
    "collapsed": true
   },
   "outputs": [],
   "source": [
    "pipeline.main(project_directory)"
   ]
  }
 ],
 "metadata": {
  "kernelspec": {
   "display_name": "Python 2",
   "language": "python",
   "name": "python2"
  },
  "language_info": {
   "codemirror_mode": {
    "name": "ipython",
    "version": 2
   },
   "file_extension": ".py",
   "mimetype": "text/x-python",
   "name": "python",
   "nbconvert_exporter": "python",
   "pygments_lexer": "ipython2",
   "version": "2.7.11"
  }
 },
 "nbformat": 4,
 "nbformat_minor": 0
}
