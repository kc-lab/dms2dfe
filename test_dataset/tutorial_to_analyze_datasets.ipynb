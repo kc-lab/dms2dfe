{
 "cells": [
  {
   "cell_type": "code",
   "execution_count": 1,
   "metadata": {
    "collapsed": false
   },
   "outputs": [],
   "source": [
    "import pandas as pd\n",
    "import logging\n",
    "logging.basicConfig(format='[%(asctime)s] %(levelname)s\\tfrom %(filename)s in %(funcName)s(..): %(message)s',level=logging.DEBUG) # filename=cfg_xls_fh+'.log'\n",
    "from get_test_dataset import main as get_test_dataset"
   ]
  },
  {
   "cell_type": "markdown",
   "metadata": {},
   "source": [
    "# Downloading required data"
   ]
  },
  {
   "cell_type": "code",
   "execution_count": 3,
   "metadata": {
    "collapsed": false
   },
   "outputs": [
    {
     "name": "stdout",
     "output_type": "stream",
     "text": [
      "Get input data for TEM1 or APH2 dataset? [valid inputs: 1 | 2]:1\n"
     ]
    }
   ],
   "source": [
    "get_test_dataset()"
   ]
  },
  {
   "cell_type": "markdown",
   "metadata": {},
   "source": [
    "# Select test dataset"
   ]
  },
  {
   "cell_type": "code",
   "execution_count": 5,
   "metadata": {
    "collapsed": false
   },
   "outputs": [
    {
     "name": "stdout",
     "output_type": "stream",
     "text": [
      "path to project directory 'TEM1_Firnberg_et_al_2014' or 'APH2_Melnikov_et_al_2014' [ 1 | 2 ]: 1\n"
     ]
    }
   ],
   "source": [
    "opt=raw_input(\"path to project directory 'TEM1_Firnberg_et_al_2014' or 'APH2_Melnikov_et_al_2014' [ 1 | 2 ]: \")\n",
    "if opt==\"1\":\n",
    "    project_directory=\"TEM1_Firnberg_et_al_2014\"\n",
    "elif opt==\"2\":\n",
    "    project_directory=\"APH2_Melnikov_et_al_2014\"    "
   ]
  },
  {
   "cell_type": "markdown",
   "metadata": {},
   "source": [
    "# Run the entire pipeline\n",
    "\n",
    "## through bash (preferred due to use of multicore)\n",
    "\n",
    "    python path/to/dms2dfe/pipeline.py path/to/project_directory\n",
    "\n",
    "    eg.\n",
    "\n",
    "    python ../dms2dfe/pipeline.py TEM1_Firnberg_et_al_2014 or\n",
    "    \n",
    "    python ../dms2dfe/pipeline.py APH2_Melnikov_et_al_2014"
   ]
  },
  {
   "cell_type": "markdown",
   "metadata": {},
   "source": [
    "# Input configurations used for the analysis\n",
    "    Information about the file formats is available at http://kc-lab.github.io/kc-lab.github.io/dms2dfe/v0.1.0/html/4io.html"
   ]
  },
  {
   "cell_type": "code",
   "execution_count": 6,
   "metadata": {
    "collapsed": false
   },
   "outputs": [],
   "source": [
    "pd.read_csv(\"%s/cfg/info\" % project_directory)"
   ]
  }
 ],
 "metadata": {
  "kernelspec": {
   "display_name": "Python [Root]",
   "language": "python",
   "name": "Python [Root]"
  },
  "language_info": {
   "codemirror_mode": {
    "name": "ipython",
    "version": 2
   },
   "file_extension": ".py",
   "mimetype": "text/x-python",
   "name": "python",
   "nbconvert_exporter": "python",
   "pygments_lexer": "ipython2",
   "version": "2.7.11"
  }
 },
 "nbformat": 4,
 "nbformat_minor": 0
}
