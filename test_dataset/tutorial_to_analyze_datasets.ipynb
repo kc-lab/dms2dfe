{
 "cells": [
  {
   "cell_type": "code",
   "execution_count": 6,
   "metadata": {
    "collapsed": true
   },
   "outputs": [],
   "source": [
    "%matplotlib inline\n",
    "from get_test_dataset import main as get_test_dataset"
   ]
  },
  {
   "cell_type": "markdown",
   "metadata": {},
   "source": [
    "# Download required data"
   ]
  },
  {
   "cell_type": "code",
   "execution_count": 8,
   "metadata": {
    "collapsed": false
   },
   "outputs": [
    {
     "name": "stdout",
     "output_type": "stream",
     "text": [
      "Get input data for TEM1 or APH2 dataset? [valid inputs: 1 | 2]:3\n"
     ]
    }
   ],
   "source": [
    "get_test_dataset()"
   ]
  },
  {
   "cell_type": "markdown",
   "metadata": {},
   "source": [
    "# Commands to run *dms2dfe*\n",
    "## through python environment\n",
    "\n",
    "    from dms2dfe import pipeline\n",
    "    pipeline.main(\"path/to/project_directory\")\n",
    "    \n",
    "## from bash \n",
    "\n",
    "    python path/to/dms2dfe/pipeline.py TEM1_Firnberg_et_al_2014"
   ]
  }
 ],
 "metadata": {
  "kernelspec": {
   "display_name": "Python 2",
   "language": "python",
   "name": "python2"
  },
  "language_info": {
   "codemirror_mode": {
    "name": "ipython",
    "version": 2
   },
   "file_extension": ".py",
   "mimetype": "text/x-python",
   "name": "python",
   "nbconvert_exporter": "python",
   "pygments_lexer": "ipython2",
   "version": "2.7.11"
  }
 },
 "nbformat": 4,
 "nbformat_minor": 0
}
