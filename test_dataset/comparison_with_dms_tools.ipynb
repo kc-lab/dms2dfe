{
 "cells": [
  {
   "cell_type": "markdown",
   "metadata": {},
   "source": [
    "# Download [dms_tools v1.1.15](https://github.com/jbloomlab/dms_tools/archive/1.1.15.tar.gz) and append path to script dms_inferprefs"
   ]
  },
  {
   "cell_type": "code",
   "execution_count": 11,
   "metadata": {
    "collapsed": false,
    "scrolled": true
   },
   "outputs": [
    {
     "name": "stdout",
     "output_type": "stream",
     "text": [
      "path to dms_inferprefs eg. path/to/dms_tools/dms_tools-master/scripts/dms_inferprefs :1\n"
     ]
    }
   ],
   "source": [
    "dms_tools_fh=raw_input(\"path to dms_inferprefs eg. path/to/dms_tools/dms_tools-master/scripts/dms_inferprefs :\")"
   ]
  },
  {
   "cell_type": "markdown",
   "metadata": {},
   "source": [
    "# Load required modules and information "
   ]
  },
  {
   "cell_type": "code",
   "execution_count": 9,
   "metadata": {
    "collapsed": true
   },
   "outputs": [],
   "source": [
    "%matplotlib inline\n",
    "from get_test_dataset import get_frequencies,make_random_splits,make_dmstools_inputs,\\\n",
    "run_dmstools,get_dmstools_output,get_comparison_data,make_comparison_data\n",
    "prj_dhs=[\"TEM1_Firnberg_et_al_2014_random_sampling/\",\"APH2_Melnikov_et_al_2014_random_sampling/\"]"
   ]
  },
  {
   "cell_type": "markdown",
   "metadata": {},
   "source": [
    "# Select the dataset to be used for the comparison"
   ]
  },
  {
   "cell_type": "code",
   "execution_count": 10,
   "metadata": {
    "collapsed": false
   },
   "outputs": [
    {
     "name": "stdout",
     "output_type": "stream",
     "text": [
      "Get input data for TEM1 or APH2 dataset? [valid inputs: 1 | 2]:1\n"
     ]
    }
   ],
   "source": [
    "test_dataset=raw_input(\"Get input data for TEM1 or APH2 dataset? [valid inputs: 1 | 2]:\")\n",
    "if (test_dataset=='1'):\n",
    "    prj_dh=prj_dhs[0]\n",
    "elif (test_dataset=='2'):\n",
    "    prj_dh=prj_dhs[1]    "
   ]
  },
  {
   "cell_type": "markdown",
   "metadata": {},
   "source": [
    "# Get required data for comparison from existing analysis      \n",
    "    This requires frequencies of mutants which are taken from already analysed datasets.\n",
    "    (please refer to tutorial_to_analyse_datasets.ipynb located in the same folder) "
   ]
  },
  {
   "cell_type": "code",
   "execution_count": null,
   "metadata": {
    "collapsed": true
   },
   "outputs": [],
   "source": [
    "ref,unselected=get_frequencies(prj_dh)"
   ]
  },
  {
   "cell_type": "markdown",
   "metadata": {},
   "source": [
    "# Make random splits of the empirical preferential enrichments "
   ]
  },
  {
   "cell_type": "code",
   "execution_count": null,
   "metadata": {
    "collapsed": true
   },
   "outputs": [],
   "source": [
    "make_random_splits(prj_dh)"
   ]
  },
  {
   "cell_type": "markdown",
   "metadata": {
    "collapsed": true
   },
   "source": [
    "# Infer prefrential enrichments by *dms2dfe*"
   ]
  },
  {
   "cell_type": "code",
   "execution_count": null,
   "metadata": {
    "collapsed": true
   },
   "outputs": [],
   "source": [
    "ana2_mutmat2fit.main(prj_dh)\n",
    "ana4_modeller.main(prj_dh)"
   ]
  },
  {
   "cell_type": "markdown",
   "metadata": {
    "collapsed": true
   },
   "source": [
    "# Infer prefrential enrichments by *dms_tools*"
   ]
  },
  {
   "cell_type": "code",
   "execution_count": null,
   "metadata": {
    "collapsed": true
   },
   "outputs": [],
   "source": [
    "make_dmstools_inputs(prj_dh)\n",
    "run_dmstools(prj_dh,dms_tools_fh,unselected)\n",
    "get_dmstools_output(prj_dh,ref)"
   ]
  },
  {
   "cell_type": "markdown",
   "metadata": {
    "collapsed": true
   },
   "source": [
    "# Compare of both the approaches"
   ]
  },
  {
   "cell_type": "code",
   "execution_count": 5,
   "metadata": {
    "collapsed": true
   },
   "outputs": [],
   "source": [
    "get_comparison_data(prj_dh)\n",
    "make_comparison_data(prj_dh)"
   ]
  }
 ],
 "metadata": {
  "kernelspec": {
   "display_name": "Python 2",
   "language": "python",
   "name": "python2"
  },
  "language_info": {
   "codemirror_mode": {
    "name": "ipython",
    "version": 2
   },
   "file_extension": ".py",
   "mimetype": "text/x-python",
   "name": "python",
   "nbconvert_exporter": "python",
   "pygments_lexer": "ipython2",
   "version": "2.7.11"
  }
 },
 "nbformat": 4,
 "nbformat_minor": 0
}
